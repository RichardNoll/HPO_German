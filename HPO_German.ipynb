{
 "cells": [
  {
   "cell_type": "code",
   "execution_count": 10,
   "id": "01f79245",
   "metadata": {},
   "outputs": [],
   "source": [
    "import re"
   ]
  },
  {
   "cell_type": "code",
   "execution_count": 11,
   "id": "1a897b8c",
   "metadata": {},
   "outputs": [],
   "source": [
    "def is_valid_code(code):\n",
    "    \"\"\" Überprüfen, ob der Code dem Format 'HP:0000013' entspricht \"\"\"\n",
    "    return re.match(r\"HP:\\d{7}\", code) is not None\n",
    "\n",
    "def extract_info(document, code, include_def):\n",
    "    pattern = fr\"\\[Begriff\\]\\nid: {code}\\n(.*?)\\n(?=\\[Begriff\\]|\\Z)\"\n",
    "    match = re.search(pattern, document, re.DOTALL)\n",
    "    if match:\n",
    "        begriff_abschnitt = match.group(1)\n",
    "\n",
    "        # Extrahieren des Namens\n",
    "        name_match = re.search(r\"name: ([^\\n]+)\\n\", begriff_abschnitt, re.IGNORECASE)\n",
    "        name = name_match.group(1) if name_match else None\n",
    "\n",
    "        # Extrahieren und Formatieren der Synonyme\n",
    "        synonyms = re.findall(r\"synonym: \\\"([^\\\"]+)\\\"\", begriff_abschnitt)\n",
    "        formatted_info = set([name])  # Beginnen mit einem Set, das den Namen enthält\n",
    "\n",
    "        for synonym in synonyms:\n",
    "            formatted_info.add(synonym)  # Hinzufügen zum Set, um Duplikate zu vermeiden\n",
    "\n",
    "        # Entfernen von None und Zusammenfügen der Informationen\n",
    "        if None in formatted_info:\n",
    "            formatted_info.remove(None)\n",
    "        combined_info = ', '.join(formatted_info)\n",
    "\n",
    "        # Extrahieren der Definition, falls gewünscht\n",
    "        if include_def:\n",
    "            def_match = re.search(r\"def: \\\"([^\\\"]+)\\\"\", begriff_abschnitt)\n",
    "            definition = def_match.group(1) if def_match else \"No definition found\"\n",
    "            combined_info += f\" - Definition: {definition}\"\n",
    "\n",
    "        return combined_info\n",
    "    return None\n",
    "\n",
    "\n",
    "    \n",
    "def find_code_by_name_or_synonym(document, search_term):\n",
    "    \"\"\" Findet den Code basierend auf einem gegebenen Namen oder Synonym. \"\"\"\n",
    "    pattern = fr\"\\[Begriff\\]\\nid: (HP:\\d{{7}})\\n(.*?)(?=\\[Begriff\\]|\\Z)\"\n",
    "    for match in re.finditer(pattern, document, re.DOTALL | re.IGNORECASE):\n",
    "        code, begriff_abschnitt = match.groups()\n",
    "        name_match = re.search(r\"name: ([^\\n]+)\\n\", begriff_abschnitt, re.IGNORECASE)\n",
    "        synonyms = re.findall(r\"synonym: \\\"([^\\\"]+)\\\"\", begriff_abschnitt, re.IGNORECASE)\n",
    "\n",
    "        if name_match and search_term.lower() == name_match.group(1).lower():\n",
    "            return code\n",
    "        if any(synonym.lower() == search_term.lower() for synonym in synonyms):\n",
    "            return code\n",
    "    return None"
   ]
  },
  {
   "cell_type": "code",
   "execution_count": 3,
   "id": "300a1271",
   "metadata": {},
   "outputs": [
    {
     "ename": "FileNotFoundError",
     "evalue": "[Errno 2] No such file or directory: 'hp full de.txt'",
     "output_type": "error",
     "traceback": [
      "\u001b[1;31m---------------------------------------------------------------------------\u001b[0m",
      "\u001b[1;31mFileNotFoundError\u001b[0m                         Traceback (most recent call last)",
      "Cell \u001b[1;32mIn[3], line 3\u001b[0m\n\u001b[0;32m      1\u001b[0m \u001b[38;5;66;03m# Lesen des Textdokuments (ohne vollständigen Pfad)\u001b[39;00m\n\u001b[0;32m      2\u001b[0m document_path \u001b[38;5;241m=\u001b[39m \u001b[38;5;124m\"\u001b[39m\u001b[38;5;124mhp full de.txt\u001b[39m\u001b[38;5;124m\"\u001b[39m\n\u001b[1;32m----> 3\u001b[0m \u001b[38;5;28;01mwith\u001b[39;00m \u001b[38;5;28mopen\u001b[39m(document_path, \u001b[38;5;124m'\u001b[39m\u001b[38;5;124mr\u001b[39m\u001b[38;5;124m'\u001b[39m, encoding\u001b[38;5;241m=\u001b[39m\u001b[38;5;124m'\u001b[39m\u001b[38;5;124mutf-8\u001b[39m\u001b[38;5;124m'\u001b[39m) \u001b[38;5;28;01mas\u001b[39;00m file:\n\u001b[0;32m      4\u001b[0m     document \u001b[38;5;241m=\u001b[39m file\u001b[38;5;241m.\u001b[39mread()\n\u001b[0;32m      6\u001b[0m \u001b[38;5;66;03m# Eingabeaufforderung für den Nutzer\u001b[39;00m\n",
      "File \u001b[1;32m~\\anaconda3\\Lib\\site-packages\\IPython\\core\\interactiveshell.py:286\u001b[0m, in \u001b[0;36m_modified_open\u001b[1;34m(file, *args, **kwargs)\u001b[0m\n\u001b[0;32m    279\u001b[0m \u001b[38;5;28;01mif\u001b[39;00m file \u001b[38;5;129;01min\u001b[39;00m {\u001b[38;5;241m0\u001b[39m, \u001b[38;5;241m1\u001b[39m, \u001b[38;5;241m2\u001b[39m}:\n\u001b[0;32m    280\u001b[0m     \u001b[38;5;28;01mraise\u001b[39;00m \u001b[38;5;167;01mValueError\u001b[39;00m(\n\u001b[0;32m    281\u001b[0m         \u001b[38;5;124mf\u001b[39m\u001b[38;5;124m\"\u001b[39m\u001b[38;5;124mIPython won\u001b[39m\u001b[38;5;124m'\u001b[39m\u001b[38;5;124mt let you open fd=\u001b[39m\u001b[38;5;132;01m{\u001b[39;00mfile\u001b[38;5;132;01m}\u001b[39;00m\u001b[38;5;124m by default \u001b[39m\u001b[38;5;124m\"\u001b[39m\n\u001b[0;32m    282\u001b[0m         \u001b[38;5;124m\"\u001b[39m\u001b[38;5;124mas it is likely to crash IPython. If you know what you are doing, \u001b[39m\u001b[38;5;124m\"\u001b[39m\n\u001b[0;32m    283\u001b[0m         \u001b[38;5;124m\"\u001b[39m\u001b[38;5;124myou can use builtins\u001b[39m\u001b[38;5;124m'\u001b[39m\u001b[38;5;124m open.\u001b[39m\u001b[38;5;124m\"\u001b[39m\n\u001b[0;32m    284\u001b[0m     )\n\u001b[1;32m--> 286\u001b[0m \u001b[38;5;28;01mreturn\u001b[39;00m io_open(file, \u001b[38;5;241m*\u001b[39margs, \u001b[38;5;241m*\u001b[39m\u001b[38;5;241m*\u001b[39mkwargs)\n",
      "\u001b[1;31mFileNotFoundError\u001b[0m: [Errno 2] No such file or directory: 'hp full de.txt'"
     ]
    }
   ],
   "source": [
    "# Lesen des Textdokuments (ohne vollständigen Pfad)\n",
    "document_path = \"hp full de.txt\"\n",
    "with open(document_path, 'r', encoding='utf-8') as file:\n",
    "    document = file.read()\n",
    "\n",
    "# Eingabeaufforderung für den Nutzer\n",
    "search_type = input(\"Would you like to search for a code or  a name ? (code/name): \").lower()\n",
    "\n",
    "\n",
    "if search_type == 'code':\n",
    "    # Eingabeaufforderungen für den Nutzer\n",
    "    input_codes = input(\"Please enter the codes in the format 'HP:0000013' (separated by commas): \")\n",
    "    codes_list = input_codes.split(',')\n",
    "    include_def_input = input(\"Do you want to include definitions? (yes/no): \")\n",
    "    include_def = include_def_input.strip().lower() == 'yes'\n",
    "\n",
    "    # Extrahieren der Informationen und Ausgabe in der Konsole\n",
    "    for code in codes_list:\n",
    "        code = code.strip()  # Entfernen von Leerzeichen um den Code\n",
    "        if not is_valid_code(code):\n",
    "            print(f\"Error: '{code}' is not a valid code. Correct format: 'HP:0000013'\")\n",
    "            continue\n",
    "        combined_info = extract_info(document, code, include_def)\n",
    "        if combined_info:\n",
    "            print(f\"Code: {code}, Name and Synonyms: {combined_info}\")\n",
    "        else:\n",
    "            print(f\"No information found for Code: {code}\")\n",
    "# Hier den Code für die Code-Suche einfügen\n",
    "elif search_type in ['name']:\n",
    "    search_term = input(\"Please enter a German name or synonym: \")\n",
    "\n",
    "    code = find_code_by_name_or_synonym(document, search_term)\n",
    "    if code:\n",
    "        print(f\"Zu '{search_term}' found Code: {code}\")\n",
    "    else:\n",
    "        print(f\"'{search_term}' was not found.\")"
   ]
  },
  {
   "cell_type": "code",
   "execution_count": null,
   "id": "2fcebb71",
   "metadata": {},
   "outputs": [],
   "source": []
  }
 ],
 "metadata": {
  "kernelspec": {
   "display_name": "Python 3 (ipykernel)",
   "language": "python",
   "name": "python3"
  },
  "language_info": {
   "codemirror_mode": {
    "name": "ipython",
    "version": 3
   },
   "file_extension": ".py",
   "mimetype": "text/x-python",
   "name": "python",
   "nbconvert_exporter": "python",
   "pygments_lexer": "ipython3",
   "version": "3.11.5"
  }
 },
 "nbformat": 4,
 "nbformat_minor": 5
}
